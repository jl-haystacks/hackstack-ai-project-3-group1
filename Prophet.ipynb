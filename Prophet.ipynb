{
 "cells": [
  {
   "cell_type": "markdown",
   "id": "3cb50e7c",
   "metadata": {},
   "source": [
    "## Input"
   ]
  },
  {
   "cell_type": "code",
   "execution_count": null,
   "id": "1fef6c83",
   "metadata": {},
   "outputs": [],
   "source": [
    "#location = \"NewYorkNY\""
   ]
  },
  {
   "cell_type": "markdown",
   "id": "cd6778ae",
   "metadata": {},
   "source": [
    "## Libraries"
   ]
  },
  {
   "cell_type": "code",
   "execution_count": 3,
   "id": "63fc6d7d",
   "metadata": {},
   "outputs": [],
   "source": [
    "import numpy as np\n",
    "import pandas as pd\n",
    "from prophet import Prophet\n",
    "from prophet.diagnostics import cross_validation\n",
    "from prophet.diagnostics import performance_metrics\n",
    "from prophet.plot import plot_cross_validation_metric\n",
    "import itertools\n",
    "import pickle"
   ]
  },
  {
   "cell_type": "markdown",
   "id": "864c61fc",
   "metadata": {},
   "source": [
    "## Data"
   ]
  },
  {
   "cell_type": "code",
   "execution_count": null,
   "id": "54c85dee",
   "metadata": {
    "scrolled": true
   },
   "outputs": [],
   "source": [
    "df_raw = pd.read_pickle('data/cleaned_df.pkl')"
   ]
  },
  {
   "cell_type": "code",
   "execution_count": null,
   "id": "b9488470",
   "metadata": {},
   "outputs": [],
   "source": [
    "# define df for chosen region\n",
    "df = df_raw[[\"date\", location]] # subset\n",
    "df.columns = [\"ds\", \"y\"] # rename columns to work with prophet\n",
    "\n",
    "# drop nas because they just mean the time series is shorter (nans within time series were already interpolated)\n",
    "df = df.dropna(axis=0)\n",
    "df = df.reset_index(drop=True)"
   ]
  },
  {
   "cell_type": "markdown",
   "id": "67ced8d5",
   "metadata": {},
   "source": [
    "## Model"
   ]
  },
  {
   "cell_type": "code",
   "execution_count": null,
   "id": "212341a6",
   "metadata": {},
   "outputs": [],
   "source": [
    "m = Prophet(changepoint_range=0.9, \n",
    "            changepoint_prior_scale=0.5,\n",
    "            yearly_seasonality = False\n",
    "           ).fit(df)"
   ]
  },
  {
   "cell_type": "code",
   "execution_count": null,
   "id": "673496a4",
   "metadata": {},
   "outputs": [],
   "source": [
    "# create list called future containing df with future dates\n",
    "future = m.make_future_dataframe(periods=12, freq='MS')\n",
    "\n",
    "# create list called forecast containing df with forecasts\n",
    "forecast = m.predict(future)"
   ]
  },
  {
   "cell_type": "markdown",
   "id": "07dca599",
   "metadata": {},
   "source": [
    "## Plot"
   ]
  },
  {
   "cell_type": "code",
   "execution_count": null,
   "id": "303320eb",
   "metadata": {},
   "outputs": [],
   "source": [
    "fig1 = m.plot(forecast)"
   ]
  },
  {
   "cell_type": "markdown",
   "id": "ed00a182",
   "metadata": {},
   "source": [
    "## Performance\n",
    "Using cross validation"
   ]
  },
  {
   "cell_type": "code",
   "execution_count": null,
   "id": "38c553fd",
   "metadata": {},
   "outputs": [],
   "source": [
    "# create cutoffs - make appropriate depending on length of time series\n",
    "last_day = pd.to_datetime(df[\"ds\"].iloc[-1])\n",
    "\n",
    "# for time series shorter than 3 years\n",
    "    # horizon = 4 months\n",
    "    # initial = 6 months\n",
    "    # period = 1 month\n",
    "if len(df) <= 36:\n",
    "    cutoff_index = 6-1 # initial\n",
    "    cutoffs = []\n",
    "    # while the cut off is less than the end date minus horizon:\n",
    "    while df[\"ds\"].iloc[cutoff_index] <= last_day-pd.DateOffset(122):\n",
    "        cutoff = df[\"ds\"].iloc[cutoff_index]\n",
    "        cutoffs.append(cutoff) # add cutoff to the list\n",
    "        cutoff_index += 1 # cutoff every month\n",
    "    cutoffs = pd.to_datetime(cutoffs) # to datetime\n",
    "    horizon = \"122 days\" # 4 months\n",
    "\n",
    "# for time series longer than 4 years\n",
    "    # horizon = 12 months\n",
    "    # initial = half the length of the time series but at least 3 years\n",
    "    # period = 6 month\n",
    "if len(df) > 36:\n",
    "    cutoff_index = max(24, round(len(df)/2))-1 # initial - at least 2 yrs\n",
    "    cutoffs = []\n",
    "    # while the cut off is less than the end date minus horizon:\n",
    "    while df[\"ds\"].iloc[cutoff_index] <= last_day-pd.DateOffset(366): # cutoffs must be less than end date minus horizon\n",
    "        cutoff = df[\"ds\"].iloc[cutoff_index]\n",
    "        cutoffs.append(cutoff) # add cutoff to the list\n",
    "        cutoff_index += 6 # cutoff every 6 months\n",
    "    cutoffs = pd.to_datetime(cutoffs) # to datetime\n",
    "    horizon = \"366 days\" # 1 year"
   ]
  },
  {
   "cell_type": "code",
   "execution_count": null,
   "id": "8d6b8ecc",
   "metadata": {},
   "outputs": [],
   "source": [
    "# Use cross validation to evaluate performance\n",
    "df_cv = cross_validation(m, cutoffs=cutoffs, horizon=horizon)\n",
    "df_p = performance_metrics(df_cv)"
   ]
  },
  {
   "cell_type": "code",
   "execution_count": null,
   "id": "d4563103",
   "metadata": {},
   "outputs": [],
   "source": [
    "# I want df_p in months\n",
    "df_p[\"horizon\"] = round(df_p[\"horizon\"]/np.timedelta64(1, 'M')) # round days to months\n",
    "df_p = df_p.groupby([\"horizon\"], as_index=False).mean() # average values for each month"
   ]
  },
  {
   "cell_type": "markdown",
   "id": "11011d98",
   "metadata": {},
   "source": [
    "## Plot MAPE"
   ]
  },
  {
   "cell_type": "code",
   "execution_count": null,
   "id": "a0d18793",
   "metadata": {},
   "outputs": [],
   "source": [
    "fig2 = df_p.plot(x=\"horizon\", y=\"mape\", ylabel=\"MAPE\", xlabel=\"Horizon (months)\", legend=0)"
   ]
  },
  {
   "cell_type": "code",
   "execution_count": null,
   "id": "9250cf78",
   "metadata": {},
   "outputs": [],
   "source": []
  }
 ],
 "metadata": {
  "kernelspec": {
   "display_name": "Python 3 (ipykernel)",
   "language": "python",
   "name": "python3"
  },
  "language_info": {
   "codemirror_mode": {
    "name": "ipython",
    "version": 3
   },
   "file_extension": ".py",
   "mimetype": "text/x-python",
   "name": "python",
   "nbconvert_exporter": "python",
   "pygments_lexer": "ipython3",
   "version": "3.9.7"
  }
 },
 "nbformat": 4,
 "nbformat_minor": 5
}
